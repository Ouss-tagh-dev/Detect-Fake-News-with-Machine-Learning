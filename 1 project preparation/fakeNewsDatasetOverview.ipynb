{
 "cells": [
  {
   "cell_type": "code",
   "execution_count": 19,
   "id": "6476886e",
   "metadata": {},
   "outputs": [],
   "source": [
    "import os\n",
    "import pandas as pd"
   ]
  },
  {
   "cell_type": "code",
   "execution_count": 20,
   "id": "3405e90a",
   "metadata": {},
   "outputs": [],
   "source": [
    "script_dir = os.getcwd()\n",
    "uploaded_file = os.path.join(script_dir, '../dataset/news_articles.csv')\n",
    "uploaded_file = os.path.normpath(uploaded_file)\n",
    "data = pd.read_csv(uploaded_file)"
   ]
  },
  {
   "cell_type": "code",
   "execution_count": 21,
   "id": "b9b42967",
   "metadata": {},
   "outputs": [
    {
     "name": "stdout",
     "output_type": "stream",
     "text": [
      "                 author                      published  \\\n",
      "0     Barracuda Brigade  2016-10-26T21:41:00.000+03:00   \n",
      "1  reasoning with facts  2016-10-29T08:47:11.259+03:00   \n",
      "2     Barracuda Brigade  2016-10-31T01:41:49.479+02:00   \n",
      "3                Fed Up  2016-11-01T05:22:00.000+02:00   \n",
      "4                Fed Up  2016-11-01T21:56:00.000+02:00   \n",
      "\n",
      "                                               title  \\\n",
      "0  muslims busted they stole millions in govt ben...   \n",
      "1  re why did attorney general loretta lynch plea...   \n",
      "2  breaking weiner cooperating with fbi on hillar...   \n",
      "3  pin drop speech by father of daughter kidnappe...   \n",
      "4  fantastic trumps  point plan to reform healthc...   \n",
      "\n",
      "                                                text language  \\\n",
      "0  print they should pay all the back all the mon...  english   \n",
      "1  why did attorney general loretta lynch plead t...  english   \n",
      "2  red state  \\r\\nfox news sunday reported this m...  english   \n",
      "3  email kayla mueller was a prisoner and torture...  english   \n",
      "4  email healthcare reform to make america great ...  english   \n",
      "\n",
      "              site_url                                       main_img_url  \\\n",
      "0  100percentfedup.com  http://bb4sp.com/wp-content/uploads/2016/10/Fu...   \n",
      "1  100percentfedup.com  http://bb4sp.com/wp-content/uploads/2016/10/Fu...   \n",
      "2  100percentfedup.com  http://bb4sp.com/wp-content/uploads/2016/10/Fu...   \n",
      "3  100percentfedup.com  http://100percentfedup.com/wp-content/uploads/...   \n",
      "4  100percentfedup.com  http://100percentfedup.com/wp-content/uploads/...   \n",
      "\n",
      "   type label                            title_without_stopwords  \\\n",
      "0  bias  Real        muslims busted stole millions govt benefits   \n",
      "1  bias  Real         attorney general loretta lynch plead fifth   \n",
      "2  bias  Real  breaking weiner cooperating fbi hillary email ...   \n",
      "3  bias  Real  pin drop speech father daughter kidnapped kill...   \n",
      "4  bias  Real  fantastic trumps point plan reform healthcare ...   \n",
      "\n",
      "                              text_without_stopwords  hasImage  \n",
      "0  print pay back money plus interest entire fami...       1.0  \n",
      "1  attorney general loretta lynch plead fifth bar...       1.0  \n",
      "2  red state fox news sunday reported morning ant...       1.0  \n",
      "3  email kayla mueller prisoner tortured isis cha...       1.0  \n",
      "4  email healthcare reform make america great sin...       1.0  \n"
     ]
    }
   ],
   "source": [
    "print(data.head())"
   ]
  },
  {
   "cell_type": "code",
   "execution_count": 22,
   "id": "c6ff1c3d",
   "metadata": {},
   "outputs": [
    {
     "name": "stdout",
     "output_type": "stream",
     "text": [
      "<class 'pandas.core.frame.DataFrame'>\n",
      "RangeIndex: 2096 entries, 0 to 2095\n",
      "Data columns (total 12 columns):\n",
      " #   Column                   Non-Null Count  Dtype  \n",
      "---  ------                   --------------  -----  \n",
      " 0   author                   2096 non-null   object \n",
      " 1   published                2096 non-null   object \n",
      " 2   title                    2096 non-null   object \n",
      " 3   text                     2050 non-null   object \n",
      " 4   language                 2095 non-null   object \n",
      " 5   site_url                 2095 non-null   object \n",
      " 6   main_img_url             2095 non-null   object \n",
      " 7   type                     2095 non-null   object \n",
      " 8   label                    2095 non-null   object \n",
      " 9   title_without_stopwords  2094 non-null   object \n",
      " 10  text_without_stopwords   2046 non-null   object \n",
      " 11  hasImage                 2095 non-null   float64\n",
      "dtypes: float64(1), object(11)\n",
      "memory usage: 196.6+ KB\n"
     ]
    }
   ],
   "source": [
    "data.info()"
   ]
  },
  {
   "cell_type": "code",
   "execution_count": 23,
   "id": "fda34aea",
   "metadata": {},
   "outputs": [
    {
     "data": {
      "text/plain": [
       "(2096, 12)"
      ]
     },
     "execution_count": 23,
     "metadata": {},
     "output_type": "execute_result"
    }
   ],
   "source": [
    "data.shape"
   ]
  },
  {
   "cell_type": "code",
   "execution_count": 24,
   "id": "96797cde",
   "metadata": {},
   "outputs": [
    {
     "data": {
      "text/plain": [
       "Index(['author', 'published', 'title', 'text', 'language', 'site_url',\n",
       "       'main_img_url', 'type', 'label', 'title_without_stopwords',\n",
       "       'text_without_stopwords', 'hasImage'],\n",
       "      dtype='object')"
      ]
     },
     "execution_count": 24,
     "metadata": {},
     "output_type": "execute_result"
    }
   ],
   "source": [
    "data.columns"
   ]
  },
  {
   "cell_type": "code",
   "execution_count": 25,
   "id": "88cd32de",
   "metadata": {},
   "outputs": [
    {
     "data": {
      "text/plain": [
       "author                      object\n",
       "published                   object\n",
       "title                       object\n",
       "text                        object\n",
       "language                    object\n",
       "site_url                    object\n",
       "main_img_url                object\n",
       "type                        object\n",
       "label                       object\n",
       "title_without_stopwords     object\n",
       "text_without_stopwords      object\n",
       "hasImage                   float64\n",
       "dtype: object"
      ]
     },
     "execution_count": 25,
     "metadata": {},
     "output_type": "execute_result"
    }
   ],
   "source": [
    "data.dtypes"
   ]
  }
 ],
 "metadata": {
  "kernelspec": {
   "display_name": "Python 3",
   "language": "python",
   "name": "python3"
  },
  "language_info": {
   "codemirror_mode": {
    "name": "ipython",
    "version": 3
   },
   "file_extension": ".py",
   "mimetype": "text/x-python",
   "name": "python",
   "nbconvert_exporter": "python",
   "pygments_lexer": "ipython3",
   "version": "3.10.5"
  }
 },
 "nbformat": 4,
 "nbformat_minor": 5
}
