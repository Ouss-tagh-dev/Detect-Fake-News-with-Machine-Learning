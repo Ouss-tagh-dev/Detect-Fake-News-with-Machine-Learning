{
 "cells": [
  {
   "cell_type": "code",
   "execution_count": 25,
   "id": "50ee2ae5",
   "metadata": {},
   "outputs": [],
   "source": [
    "import pandas as pd\n",
    "\n",
    "dataset_path = '../dataset/news_articles.csv'\n",
    "data = pd.read_csv(dataset_path)\n"
   ]
  },
  {
   "cell_type": "code",
   "execution_count": 33,
   "id": "a4370b39",
   "metadata": {},
   "outputs": [
    {
     "name": "stdout",
     "output_type": "stream",
     "text": [
      "Rows with Missing values : \n",
      "0       False\n",
      "1       False\n",
      "2       False\n",
      "3       False\n",
      "4       False\n",
      "        ...  \n",
      "2041    False\n",
      "2042    False\n",
      "2043    False\n",
      "2044    False\n",
      "2045    False\n",
      "Length: 2035, dtype: bool\n"
     ]
    }
   ],
   "source": [
    "missing_values_rows = data.isnull().all(axis=1)\n",
    "print(\"Rows with Missing values : \")\n",
    "print(missing_values_rows)"
   ]
  },
  {
   "cell_type": "code",
   "execution_count": 34,
   "id": "edc5f23c",
   "metadata": {},
   "outputs": [
    {
     "name": "stdout",
     "output_type": "stream",
     "text": [
      "Duplicated rows : \n",
      "Empty DataFrame\n",
      "Columns: [author, published, title, text, language, site_url, main_img_url, type, label, title_without_stopwords, text_without_stopwords, hasImage]\n",
      "Index: []\n"
     ]
    }
   ],
   "source": [
    "duplicated_rows = data[data.duplicated()]\n",
    "print(\"Duplicated rows : \")\n",
    "print(duplicated_rows)"
   ]
  },
  {
   "cell_type": "code",
   "execution_count": 28,
   "id": "71dea658",
   "metadata": {},
   "outputs": [],
   "source": [
    "data.dropna(axis=0, inplace=True)"
   ]
  },
  {
   "cell_type": "code",
   "execution_count": 29,
   "id": "3958dd47",
   "metadata": {},
   "outputs": [],
   "source": [
    "data.drop_duplicates(inplace=True)"
   ]
  },
  {
   "cell_type": "code",
   "execution_count": 35,
   "id": "6b8aecdd",
   "metadata": {},
   "outputs": [],
   "source": [
    "data.to_csv(\"../dataset/news_articles_cleaned.csv\", index=False)"
   ]
  }
 ],
 "metadata": {
  "kernelspec": {
   "display_name": "Python 3",
   "language": "python",
   "name": "python3"
  },
  "language_info": {
   "codemirror_mode": {
    "name": "ipython",
    "version": 3
   },
   "file_extension": ".py",
   "mimetype": "text/x-python",
   "name": "python",
   "nbconvert_exporter": "python",
   "pygments_lexer": "ipython3",
   "version": "3.10.5"
  }
 },
 "nbformat": 4,
 "nbformat_minor": 5
}
